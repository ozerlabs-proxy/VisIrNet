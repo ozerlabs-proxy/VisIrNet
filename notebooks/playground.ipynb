{
 "cells": [
  {
   "cell_type": "code",
   "execution_count": 11,
   "metadata": {},
   "outputs": [
    {
     "name": "stdout",
     "output_type": "stream",
     "text": [
      "2.14.0\n",
      "len(devices):  1\n",
      "available GPUs: [PhysicalDevice(name='/physical_device:GPU:0', device_type='GPU')]\n"
     ]
    }
   ],
   "source": [
    "import os\n",
    "import sys\n",
    "os.environ['TF_CPP_MIN_LOG_LEVEL'] = '3'\n",
    "import tensorflow as tf\n",
    "from pathlib import Path\n",
    "import numpy as np\n",
    "import PIL\n",
    "import PIL.Image\n",
    "import json\n",
    "\n",
    "#change working directory to root\n",
    "ROOT_DIR = os.getcwd()\n",
    "while os.path.basename(ROOT_DIR) != 'VisIrNet':\n",
    "    ROOT_DIR = os.path.abspath(os.path.join(ROOT_DIR,'..'))\n",
    "sys.path.insert(0,ROOT_DIR)\n",
    "os.chdir(ROOT_DIR)\n",
    "\n",
    "ROOT_DIR = Path(ROOT_DIR)\n",
    "\n",
    "print(tf.__version__)\n",
    "devices = tf.config.list_physical_devices('GPU')\n",
    "print(\"len(devices): \", len(devices))\n",
    "print(f\"available GPUs: {devices}\");\n"
   ]
  },
  {
   "cell_type": "markdown",
   "metadata": {},
   "source": [
    "**Dataloaders**"
   ]
  },
  {
   "cell_type": "code",
   "execution_count": 12,
   "metadata": {},
   "outputs": [
    {
     "name": "stdout",
     "output_type": "stream",
     "text": [
      "[INFO] loading train dataset\n",
      "[INFO] train _dataset:  27700\n",
      "[INFO] loading val dataset\n",
      "[INFO] val _dataset:  7990\n"
     ]
    },
    {
     "data": {
      "text/plain": [
       "(13850, 3995)"
      ]
     },
     "execution_count": 12,
     "metadata": {},
     "output_type": "execute_result"
    }
   ],
   "source": [
    "import data_setup\n",
    "\n",
    "# try to import the dataset\n",
    "dataset=\"SkyData\"\n",
    "BATCH_SIZE = 2\n",
    "SHUFFLE_BUFFER_SIZE = 100\n",
    "\n",
    "train_dataloader,test_dataloader = data_setup.create_dataloaders(dataset=dataset, \n",
    "                                                                BATCH_SIZE=BATCH_SIZE,\n",
    "                                                                SHUFFLE_BUFFER_SIZE=100\n",
    "                                                                )\n",
    "\n",
    "len(train_dataloader), len(test_dataloader)\n",
    "#"
   ]
  },
  {
   "cell_type": "markdown",
   "metadata": {},
   "source": [
    "## **Model**"
   ]
  },
  {
   "cell_type": "code",
   "execution_count": 13,
   "metadata": {},
   "outputs": [],
   "source": [
    "import model_setup\n",
    "import Utils"
   ]
  },
  {
   "cell_type": "markdown",
   "metadata": {},
   "source": [
    "**configuration**\n",
    "\n",
    "\n",
    "or load configuration from a file"
   ]
  },
  {
   "cell_type": "code",
   "execution_count": 14,
   "metadata": {},
   "outputs": [],
   "source": [
    "# config constants \n",
    "configs = {\n",
    "            'RGB_INPUTS_SHAPE' : (192,192,3),\n",
    "            'IR_INPUTS_SHAPE' :  (128,128,3),\n",
    "            'OUTPUT_CHANNELS_PER_BLOCK' : 3,\n",
    "            'REGRESSION_INPUT_SHAPE' : None,\n",
    "            'REGRESSION_OUTPUT_SHAPE' : 8    \n",
    "            }\n",
    "configs['REGRESSION_INPUT_SHAPE']= (*configs[\"RGB_INPUTS_SHAPE\"][:2], configs[\"OUTPUT_CHANNELS_PER_BLOCK\"]*2)\n",
    "assert configs['REGRESSION_INPUT_SHAPE'] != None"
   ]
  },
  {
   "cell_type": "code",
   "execution_count": 15,
   "metadata": {},
   "outputs": [],
   "source": [
    "featureEmbeddingBackBone = model_setup.getFeatureEmbeddingBackBone(rgb_inputs_shape=configs['RGB_INPUTS_SHAPE'],\n",
    "                                                        ir_inputs_shape=configs['IR_INPUTS_SHAPE'],\n",
    "                                                        output_channels_per_block=configs['OUTPUT_CHANNELS_PER_BLOCK']\n",
    "                                                        )\n",
    "\n",
    "regressionHead= model_setup.getRegressionHead(input_shape=configs['REGRESSION_INPUT_SHAPE'],\n",
    "                                                output_size=configs['REGRESSION_OUTPUT_SHAPE']\n",
    "                                                )\n"
   ]
  },
  {
   "cell_type": "markdown",
   "metadata": {},
   "source": [
    "**Visualize and save model structures**"
   ]
  },
  {
   "cell_type": "code",
   "execution_count": null,
   "metadata": {},
   "outputs": [],
   "source": [
    "# # visualize and save models\n",
    "\n",
    "# Utils.plot_and_save_model_structure(featureEmbeddingBackBone,\n",
    "#                                             save_path=\"resources/\",\n",
    "#                                             save_as=f\"featureEmbeddingBackBone\")\n",
    "# Utils.plot_and_save_model_structure(regressionHead,\n",
    "#                                             save_path=\"resources/\",\n",
    "#                                             save_as=f\"regressionHead\")"
   ]
  },
  {
   "cell_type": "markdown",
   "metadata": {},
   "source": [
    "## **Training**\n"
   ]
  },
  {
   "cell_type": "markdown",
   "metadata": {},
   "source": [
    "**first stage**"
   ]
  },
  {
   "cell_type": "code",
   "execution_count": null,
   "metadata": {},
   "outputs": [],
   "source": [
    "import engine \n",
    "\n",
    "initial_learning_rate = 0.001\n",
    "lr_schedule = tf.keras.optimizers.schedules.ExponentialDecay(initial_learning_rate,\n",
    "                                                                decay_steps=10000,\n",
    "                                                                decay_rate=0.96,\n",
    "                                                                staircase=True)\n",
    "NUM_EPOCHS = 5\n",
    "\n",
    "# Setup optimizer\n",
    "optimizer = tf.keras.optimizers.Adam(learning_rate=lr_schedule)\n",
    "\n",
    "# Start the timer\n",
    "from timeit import default_timer as timer\n",
    "start_time = timer()\n",
    "# Train model \n",
    "\n",
    "model_results = engine.train_first_stage(model=featureEmbeddingBackBone,\n",
    "                                                train_dataloader=train_dataloader,\n",
    "                                                test_dataloader=test_dataloader,\n",
    "                                                optimizer=optimizer,\n",
    "                                                epochs=NUM_EPOCHS,\n",
    "                                                from_checkpoint=\"latest\",\n",
    "                                                save_path=\"models\",\n",
    "                                                save_as=f\"featureEmbeddingBackBone\",\n",
    "                                                save_frequency=1,\n",
    "                                                save_hard_frequency=50\n",
    "                                                )\n",
    "# End the timer and print out how long it took\n",
    "end_time = timer()\n",
    "print(f\"Total training time : {end_time-start_time:.3f} seconds\")"
   ]
  },
  {
   "cell_type": "markdown",
   "metadata": {},
   "source": [
    "**second stage**"
   ]
  },
  {
   "cell_type": "code",
   "execution_count": null,
   "metadata": {},
   "outputs": [],
   "source": [
    "# import engine \n",
    "\n",
    "# initial_learning_rate = 0.0001\n",
    "# lr_schedule = tf.keras.optimizers.schedules.ExponentialDecay(initial_learning_rate,\n",
    "#                                                                 decay_steps=10000,\n",
    "#                                                                 decay_rate=0.96,\n",
    "#                                                                 staircase=True)\n",
    "# NUM_EPOCHS = 2\n",
    "\n",
    "# # Setup optimizer\n",
    "# optimizer = tf.keras.optimizers.Adam(learning_rate=lr_schedule)\n",
    "\n",
    "# # Start the timer\n",
    "# from timeit import default_timer as timer\n",
    "# start_time = timer()\n",
    "# # Train model \n",
    "\n",
    "# model_results = engine.train_second_stage(model=regressionHead,\n",
    "#                                         featureEmbeddingBackBone=\"latest\",\n",
    "#                                         train_dataloader=train_dataloader,\n",
    "#                                         test_dataloader=test_dataloader,\n",
    "#                                         optimizer=optimizer,\n",
    "#                                         epochs=NUM_EPOCHS,\n",
    "#                                         resume_training=\"latest\",\n",
    "#                                         save_path=\"models\",\n",
    "#                                         save_as=f\"regressionHead\",\n",
    "#                                         save_frequency=1,\n",
    "#                                         save_hard_frequency=20\n",
    "#                                         )\n",
    "# # End the timer and print out how long it took\n",
    "# end_time = timer()\n",
    "# print(f\"Total training time : {end_time-start_time:.3f} seconds\")"
   ]
  },
  {
   "cell_type": "markdown",
   "metadata": {},
   "source": []
  },
  {
   "cell_type": "code",
   "execution_count": null,
   "metadata": {},
   "outputs": [],
   "source": []
  },
  {
   "cell_type": "code",
   "execution_count": 18,
   "metadata": {},
   "outputs": [],
   "source": [
    "\n"
   ]
  },
  {
   "cell_type": "code",
   "execution_count": 19,
   "metadata": {},
   "outputs": [
    {
     "data": {
      "text/plain": [
       "PosixPath('models/featureEmbeddingBackBone_1.keras')"
      ]
     },
     "execution_count": 19,
     "metadata": {},
     "output_type": "execute_result"
    }
   ],
   "source": []
  },
  {
   "cell_type": "code",
   "execution_count": 20,
   "metadata": {},
   "outputs": [],
   "source": [
    "\n",
    "\n"
   ]
  },
  {
   "cell_type": "code",
   "execution_count": 21,
   "metadata": {},
   "outputs": [
    {
     "name": "stderr",
     "output_type": "stream",
     "text": [
      "2023-10-09 12:33:25.167821: I tensorflow/compiler/xla/stream_executor/cuda/cuda_dnn.cc:442] Loaded cuDNN version 8700\n"
     ]
    },
    {
     "name": "stdout",
     "output_type": "stream",
     "text": [
      "1/1 [==============================] - 1s 806ms/step\n"
     ]
    }
   ],
   "source": []
  },
  {
   "cell_type": "code",
   "execution_count": 25,
   "metadata": {},
   "outputs": [
    {
     "data": {
      "text/plain": [
       "(2, 192, 192, 3)"
      ]
     },
     "execution_count": 25,
     "metadata": {},
     "output_type": "execute_result"
    }
   ],
   "source": []
  },
  {
   "cell_type": "code",
   "execution_count": null,
   "metadata": {},
   "outputs": [],
   "source": []
  }
 ],
 "metadata": {
  "kernelspec": {
   "display_name": "VisIrNet",
   "language": "python",
   "name": "python3"
  },
  "language_info": {
   "codemirror_mode": {
    "name": "ipython",
    "version": 3
   },
   "file_extension": ".py",
   "mimetype": "text/x-python",
   "name": "python",
   "nbconvert_exporter": "python",
   "pygments_lexer": "ipython3",
   "version": "3.10.0"
  },
  "orig_nbformat": 4
 },
 "nbformat": 4,
 "nbformat_minor": 2
}
