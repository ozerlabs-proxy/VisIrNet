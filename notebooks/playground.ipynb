{
 "cells": [
  {
   "cell_type": "code",
   "execution_count": 1,
   "metadata": {},
   "outputs": [
    {
     "name": "stdout",
     "output_type": "stream",
     "text": [
      "2.14.0\n",
      "len(devices):  0\n",
      "available GPUs: []\n"
     ]
    }
   ],
   "source": [
    "import os\n",
    "import sys\n",
    "os.environ['TF_CPP_MIN_LOG_LEVEL'] = '3'\n",
    "import tensorflow as tf\n",
    "from pathlib import Path\n",
    "import numpy as np\n",
    "import PIL\n",
    "import PIL.Image\n",
    "import json\n",
    "\n",
    "#change working directory to root\n",
    "ROOT_DIR = os.getcwd()\n",
    "while os.path.basename(ROOT_DIR) != 'VisIrNet':\n",
    "    ROOT_DIR = os.path.abspath(os.path.join(ROOT_DIR,'..'))\n",
    "sys.path.insert(0,ROOT_DIR)\n",
    "os.chdir(ROOT_DIR)\n",
    "\n",
    "ROOT_DIR = Path(ROOT_DIR)\n",
    "\n",
    "print(tf.__version__)\n",
    "devices = tf.config.list_physical_devices('GPU')\n",
    "print(\"len(devices): \", len(devices))\n",
    "print(f\"available GPUs: {devices}\");\n"
   ]
  },
  {
   "cell_type": "markdown",
   "metadata": {},
   "source": [
    "**Dataloaders**"
   ]
  },
  {
   "cell_type": "code",
   "execution_count": 2,
   "metadata": {},
   "outputs": [
    {
     "name": "stdout",
     "output_type": "stream",
     "text": [
      "[INFO] loading train dataset\n",
      "[INFO] train _dataset:  27700\n",
      "[INFO] loading val dataset\n",
      "[INFO] val _dataset:  7990\n"
     ]
    },
    {
     "data": {
      "text/plain": [
       "(13850, 3995)"
      ]
     },
     "execution_count": 2,
     "metadata": {},
     "output_type": "execute_result"
    }
   ],
   "source": [
    "import data_setup\n",
    "\n",
    "# try to import the dataset\n",
    "dataset=\"SkyData\"\n",
    "BATCH_SIZE = 2\n",
    "SHUFFLE_BUFFER_SIZE = 100\n",
    "\n",
    "train_dataloader,test_dataloader = data_setup.create_dataloaders(dataset=dataset, \n",
    "                                                                BATCH_SIZE=BATCH_SIZE,\n",
    "                                                                SHUFFLE_BUFFER_SIZE=100\n",
    "                                                                )\n",
    "\n",
    "len(train_dataloader), len(test_dataloader)\n",
    "#"
   ]
  },
  {
   "cell_type": "markdown",
   "metadata": {},
   "source": [
    "## **Model**"
   ]
  },
  {
   "cell_type": "code",
   "execution_count": 3,
   "metadata": {},
   "outputs": [],
   "source": [
    "import model_setup\n",
    "import Utils"
   ]
  },
  {
   "cell_type": "markdown",
   "metadata": {},
   "source": [
    "**configuration**\n",
    "\n",
    "\n",
    "or load configuration from a file"
   ]
  },
  {
   "cell_type": "code",
   "execution_count": 4,
   "metadata": {},
   "outputs": [],
   "source": [
    "# config constants \n",
    "configs = {\n",
    "            'RGB_INPUTS_SHAPE' : (192,192,3),\n",
    "            'IR_INPUTS_SHAPE' :  (128,128,3),\n",
    "            'OUTPUT_CHANNELS_PER_BLOCK' : 3,\n",
    "            'REGRESSION_INPUT_SHAPE' : None,\n",
    "            'REGRESSION_OUTPUT_SHAPE' : 8    \n",
    "            }\n",
    "configs['REGRESSION_INPUT_SHAPE']= (*configs[\"RGB_INPUTS_SHAPE\"][:2], configs[\"OUTPUT_CHANNELS_PER_BLOCK\"]*2)\n",
    "assert configs['REGRESSION_INPUT_SHAPE'] != None"
   ]
  },
  {
   "cell_type": "code",
   "execution_count": 5,
   "metadata": {},
   "outputs": [
    {
     "ename": "TypeError",
     "evalue": "Dimension value must be integer or None or have an __index__ method, got value '(192, 192)' with type '<class 'tuple'>'",
     "output_type": "error",
     "traceback": [
      "\u001b[0;31m---------------------------------------------------------------------------\u001b[0m",
      "\u001b[0;31mTypeError\u001b[0m                                 Traceback (most recent call last)",
      "\u001b[1;32m/home/nalain/nalain-labs/ozerlabs/ImageRegistration/methods/VisIrNet/notebooks/playground.ipynb Cell 8\u001b[0m line \u001b[0;36m6\n\u001b[1;32m      <a href='vscode-notebook-cell:/home/nalain/nalain-labs/ozerlabs/ImageRegistration/methods/VisIrNet/notebooks/playground.ipynb#W5sZmlsZQ%3D%3D?line=0'>1</a>\u001b[0m featureEmbeddingBackBone \u001b[39m=\u001b[39m model_setup\u001b[39m.\u001b[39mgetFeatureEmbeddingBackBone(rgb_inputs_shape\u001b[39m=\u001b[39mconfigs[\u001b[39m'\u001b[39m\u001b[39mRGB_INPUTS_SHAPE\u001b[39m\u001b[39m'\u001b[39m],\n\u001b[1;32m      <a href='vscode-notebook-cell:/home/nalain/nalain-labs/ozerlabs/ImageRegistration/methods/VisIrNet/notebooks/playground.ipynb#W5sZmlsZQ%3D%3D?line=1'>2</a>\u001b[0m                                                         ir_inputs_shape\u001b[39m=\u001b[39mconfigs[\u001b[39m'\u001b[39m\u001b[39mIR_INPUTS_SHAPE\u001b[39m\u001b[39m'\u001b[39m],\n\u001b[1;32m      <a href='vscode-notebook-cell:/home/nalain/nalain-labs/ozerlabs/ImageRegistration/methods/VisIrNet/notebooks/playground.ipynb#W5sZmlsZQ%3D%3D?line=2'>3</a>\u001b[0m                                                         output_channels_per_block\u001b[39m=\u001b[39mconfigs[\u001b[39m'\u001b[39m\u001b[39mOUTPUT_CHANNELS_PER_BLOCK\u001b[39m\u001b[39m'\u001b[39m]\n\u001b[1;32m      <a href='vscode-notebook-cell:/home/nalain/nalain-labs/ozerlabs/ImageRegistration/methods/VisIrNet/notebooks/playground.ipynb#W5sZmlsZQ%3D%3D?line=3'>4</a>\u001b[0m                                                         )\n\u001b[0;32m----> <a href='vscode-notebook-cell:/home/nalain/nalain-labs/ozerlabs/ImageRegistration/methods/VisIrNet/notebooks/playground.ipynb#W5sZmlsZQ%3D%3D?line=5'>6</a>\u001b[0m regressionHead\u001b[39m=\u001b[39m model_setup\u001b[39m.\u001b[39;49mgetRegressionHead(input_shape\u001b[39m=\u001b[39;49mconfigs[\u001b[39m'\u001b[39;49m\u001b[39mREGRESSION_INPUT_SHAPE\u001b[39;49m\u001b[39m'\u001b[39;49m],\n\u001b[1;32m      <a href='vscode-notebook-cell:/home/nalain/nalain-labs/ozerlabs/ImageRegistration/methods/VisIrNet/notebooks/playground.ipynb#W5sZmlsZQ%3D%3D?line=6'>7</a>\u001b[0m                                                 output_size\u001b[39m=\u001b[39;49mconfigs[\u001b[39m'\u001b[39;49m\u001b[39mREGRESSION_OUTPUT_SHAPE\u001b[39;49m\u001b[39m'\u001b[39;49m]\n\u001b[1;32m      <a href='vscode-notebook-cell:/home/nalain/nalain-labs/ozerlabs/ImageRegistration/methods/VisIrNet/notebooks/playground.ipynb#W5sZmlsZQ%3D%3D?line=7'>8</a>\u001b[0m                                                 )\n",
      "File \u001b[0;32m~/nalain-labs/ozerlabs/ImageRegistration/methods/VisIrNet/model_setup.py:130\u001b[0m, in \u001b[0;36mgetRegressionHead\u001b[0;34m(input_shape, output_size, blocks_count)\u001b[0m\n\u001b[1;32m    121\u001b[0m \u001b[39mdef\u001b[39;00m \u001b[39mgetRegressionHead\u001b[39m(input_shape,\n\u001b[1;32m    122\u001b[0m                         output_size\u001b[39m=\u001b[39m\u001b[39m8\u001b[39m,\n\u001b[1;32m    123\u001b[0m                         blocks_count \u001b[39m=\u001b[39m\u001b[39m1\u001b[39m\n\u001b[1;32m    124\u001b[0m                         ):\n\u001b[1;32m    125\u001b[0m \u001b[39m    \u001b[39m\u001b[39m\"\"\"\u001b[39;00m\n\u001b[1;32m    126\u001b[0m \u001b[39m    Regression Head\u001b[39;00m\n\u001b[1;32m    127\u001b[0m \n\u001b[1;32m    128\u001b[0m \u001b[39m    \"\"\"\u001b[39;00m\n\u001b[0;32m--> 130\u001b[0m     inputs \u001b[39m=\u001b[39m layers\u001b[39m.\u001b[39;49mInput(shape\u001b[39m=\u001b[39;49minput_shape)\n\u001b[1;32m    132\u001b[0m     initial_feature_maps \u001b[39m=\u001b[39m \u001b[39m64\u001b[39m\n\u001b[1;32m    133\u001b[0m     x \u001b[39m=\u001b[39m layers\u001b[39m.\u001b[39mConv2D(initial_feature_maps, \n\u001b[1;32m    134\u001b[0m                     kernel_size\u001b[39m=\u001b[39m(\u001b[39m3\u001b[39m,\u001b[39m3\u001b[39m),\n\u001b[1;32m    135\u001b[0m                     strides\u001b[39m=\u001b[39m(\u001b[39m1\u001b[39m,\u001b[39m1\u001b[39m), \n\u001b[1;32m    136\u001b[0m                     padding\u001b[39m=\u001b[39m\u001b[39m\"\u001b[39m\u001b[39msame\u001b[39m\u001b[39m\"\u001b[39m)(inputs)\n",
      "File \u001b[0;32m~/miniconda3/envs/VisIrNet/lib/python3.10/site-packages/keras/src/utils/traceback_utils.py:70\u001b[0m, in \u001b[0;36mfilter_traceback.<locals>.error_handler\u001b[0;34m(*args, **kwargs)\u001b[0m\n\u001b[1;32m     67\u001b[0m     filtered_tb \u001b[39m=\u001b[39m _process_traceback_frames(e\u001b[39m.\u001b[39m__traceback__)\n\u001b[1;32m     68\u001b[0m     \u001b[39m# To get the full stack trace, call:\u001b[39;00m\n\u001b[1;32m     69\u001b[0m     \u001b[39m# `tf.debugging.disable_traceback_filtering()`\u001b[39;00m\n\u001b[0;32m---> 70\u001b[0m     \u001b[39mraise\u001b[39;00m e\u001b[39m.\u001b[39mwith_traceback(filtered_tb) \u001b[39mfrom\u001b[39;00m \u001b[39mNone\u001b[39;00m\n\u001b[1;32m     71\u001b[0m \u001b[39mfinally\u001b[39;00m:\n\u001b[1;32m     72\u001b[0m     \u001b[39mdel\u001b[39;00m filtered_tb\n",
      "File \u001b[0;32m~/miniconda3/envs/VisIrNet/lib/python3.10/site-packages/tensorflow/python/framework/tensor_shape.py:217\u001b[0m, in \u001b[0;36mDimension.__init__\u001b[0;34m(self, value)\u001b[0m\n\u001b[1;32m    215\u001b[0m   \u001b[39mself\u001b[39m\u001b[39m.\u001b[39m_value \u001b[39m=\u001b[39m \u001b[39mint\u001b[39m(value\u001b[39m.\u001b[39m\u001b[39m__index__\u001b[39m())\n\u001b[1;32m    216\u001b[0m \u001b[39mexcept\u001b[39;00m \u001b[39mAttributeError\u001b[39;00m:\n\u001b[0;32m--> 217\u001b[0m   \u001b[39mraise\u001b[39;00m \u001b[39mTypeError\u001b[39;00m(\n\u001b[1;32m    218\u001b[0m       \u001b[39m\"\u001b[39m\u001b[39mDimension value must be integer or None or have \u001b[39m\u001b[39m\"\u001b[39m\n\u001b[1;32m    219\u001b[0m       \u001b[39m\"\u001b[39m\u001b[39man __index__ method, got value \u001b[39m\u001b[39m'\u001b[39m\u001b[39m{0!r}\u001b[39;00m\u001b[39m'\u001b[39m\u001b[39m with type \u001b[39m\u001b[39m'\u001b[39m\u001b[39m{1!r}\u001b[39;00m\u001b[39m'\u001b[39m\u001b[39m\"\u001b[39m\u001b[39m.\u001b[39mformat(\n\u001b[1;32m    220\u001b[0m           value, \u001b[39mtype\u001b[39m(value))) \u001b[39mfrom\u001b[39;00m \u001b[39mNone\u001b[39;00m\n\u001b[1;32m    221\u001b[0m \u001b[39mif\u001b[39;00m \u001b[39mself\u001b[39m\u001b[39m.\u001b[39m_value \u001b[39m<\u001b[39m \u001b[39m0\u001b[39m:\n\u001b[1;32m    222\u001b[0m   \u001b[39mraise\u001b[39;00m \u001b[39mValueError\u001b[39;00m(\u001b[39m\"\u001b[39m\u001b[39mDimension \u001b[39m\u001b[39m%d\u001b[39;00m\u001b[39m must be >= 0\u001b[39m\u001b[39m\"\u001b[39m \u001b[39m%\u001b[39m \u001b[39mself\u001b[39m\u001b[39m.\u001b[39m_value)\n",
      "\u001b[0;31mTypeError\u001b[0m: Dimension value must be integer or None or have an __index__ method, got value '(192, 192)' with type '<class 'tuple'>'"
     ]
    }
   ],
   "source": [
    "featureEmbeddingBackBone = model_setup.getFeatureEmbeddingBackBone(rgb_inputs_shape=configs['RGB_INPUTS_SHAPE'],\n",
    "                                                        ir_inputs_shape=configs['IR_INPUTS_SHAPE'],\n",
    "                                                        output_channels_per_block=configs['OUTPUT_CHANNELS_PER_BLOCK']\n",
    "                                                        )\n",
    "\n",
    "regressionHead= model_setup.getRegressionHead(input_shape=configs['REGRESSION_INPUT_SHAPE'],\n",
    "                                                output_size=configs['REGRESSION_OUTPUT_SHAPE']\n",
    "                                                )\n"
   ]
  },
  {
   "cell_type": "markdown",
   "metadata": {},
   "source": [
    "**Visualize and save model structures**"
   ]
  },
  {
   "cell_type": "code",
   "execution_count": null,
   "metadata": {},
   "outputs": [],
   "source": [
    "# # visualize and save models\n",
    "\n",
    "# Utils.plot_and_save_model_structure(featureEmbeddingBackBone,\n",
    "#                                             save_path=\"resources/\",\n",
    "#                                             save_as=f\"featureEmbeddingBackBone\")\n",
    "# Utils.plot_and_save_model_structure(regressionHead,\n",
    "#                                             save_path=\"resources/\",\n",
    "#                                             save_as=f\"regressionHead\")"
   ]
  },
  {
   "cell_type": "markdown",
   "metadata": {},
   "source": [
    "## **Training**\n"
   ]
  },
  {
   "cell_type": "code",
   "execution_count": null,
   "metadata": {},
   "outputs": [],
   "source": [
    "import engine \n",
    "\n",
    "initial_learning_rate = 0.001\n",
    "lr_schedule = tf.keras.optimizers.schedules.ExponentialDecay(initial_learning_rate,\n",
    "                                                                decay_steps=10000,\n",
    "                                                                decay_rate=0.96,\n",
    "                                                                staircase=True)\n",
    "NUM_EPOCHS = 2\n",
    "\n",
    "# Setup optimizer\n",
    "optimizer = tf.keras.optimizers.Adam(learning_rate=lr_schedule)\n",
    "\n",
    "# Start the timer\n",
    "from timeit import default_timer as timer\n",
    "start_time = timer()\n",
    "# Train model \n",
    "\n",
    "model_results = engine.train_first_stage(model=featureEmbeddingBackBone,\n",
    "                                                train_dataloader=train_dataloader,\n",
    "                                                test_dataloader=test_dataloader,\n",
    "                                                optimizer=optimizer,\n",
    "                                                epochs=NUM_EPOCHS,\n",
    "                                                save_path=\"models\",\n",
    "                                                save_as=f\"featureEmbeddingBackBone\",\n",
    "                                                save_frequency=1,\n",
    "                                                save_hard_frequency=50\n",
    "                                                )\n",
    "# End the timer and print out how long it took\n",
    "end_time = timer()\n",
    "print(f\"Total training time : {end_time-start_time:.3f} seconds\")"
   ]
  },
  {
   "cell_type": "markdown",
   "metadata": {},
   "source": []
  }
 ],
 "metadata": {
  "kernelspec": {
   "display_name": "VisIrNet",
   "language": "python",
   "name": "python3"
  },
  "language_info": {
   "codemirror_mode": {
    "name": "ipython",
    "version": 3
   },
   "file_extension": ".py",
   "mimetype": "text/x-python",
   "name": "python",
   "nbconvert_exporter": "python",
   "pygments_lexer": "ipython3",
   "version": "3.10.0"
  },
  "orig_nbformat": 4
 },
 "nbformat": 4,
 "nbformat_minor": 2
}
