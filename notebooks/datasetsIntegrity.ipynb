{
 "cells": [
  {
   "cell_type": "code",
   "execution_count": 1,
   "metadata": {},
   "outputs": [],
   "source": [
    "import os\n",
    "import sys\n",
    "from pathlib import Path\n",
    "#change working directory to root\n",
    "ROOT_DIR = os.getcwd()\n",
    "while os.path.basename(ROOT_DIR) != 'VisIrNet':\n",
    "    ROOT_DIR = os.path.abspath(os.path.join(ROOT_DIR,'..'))\n",
    "sys.path.insert(0,ROOT_DIR)\n",
    "os.chdir(ROOT_DIR)\n",
    "\n",
    "ROOT_DIR = Path(ROOT_DIR)\n"
   ]
  },
  {
   "cell_type": "code",
   "execution_count": 2,
   "metadata": {},
   "outputs": [
    {
     "name": "stderr",
     "output_type": "stream",
     "text": [
      "2023-10-05 15:54:42.642681: I tensorflow/core/util/port.cc:111] oneDNN custom operations are on. You may see slightly different numerical results due to floating-point round-off errors from different computation orders. To turn them off, set the environment variable `TF_ENABLE_ONEDNN_OPTS=0`.\n",
      "2023-10-05 15:54:42.667788: E tensorflow/compiler/xla/stream_executor/cuda/cuda_dnn.cc:9342] Unable to register cuDNN factory: Attempting to register factory for plugin cuDNN when one has already been registered\n",
      "2023-10-05 15:54:42.667823: E tensorflow/compiler/xla/stream_executor/cuda/cuda_fft.cc:609] Unable to register cuFFT factory: Attempting to register factory for plugin cuFFT when one has already been registered\n",
      "2023-10-05 15:54:42.667840: E tensorflow/compiler/xla/stream_executor/cuda/cuda_blas.cc:1518] Unable to register cuBLAS factory: Attempting to register factory for plugin cuBLAS when one has already been registered\n",
      "2023-10-05 15:54:42.672597: I tensorflow/core/platform/cpu_feature_guard.cc:182] This TensorFlow binary is optimized to use available CPU instructions in performance-critical operations.\n",
      "To enable the following instructions: AVX2 AVX_VNNI FMA, in other operations, rebuild TensorFlow with the appropriate compiler flags.\n"
     ]
    },
    {
     "name": "stdout",
     "output_type": "stream",
     "text": [
      "2.14.0\n",
      "len(devices):  0\n",
      "available GPUs: []\n"
     ]
    },
    {
     "name": "stderr",
     "output_type": "stream",
     "text": [
      "2023-10-05 15:54:45.051130: E tensorflow/compiler/xla/stream_executor/cuda/cuda_driver.cc:268] failed call to cuInit: CUDA_ERROR_UNKNOWN: unknown error\n",
      "2023-10-05 15:54:45.051162: I tensorflow/compiler/xla/stream_executor/cuda/cuda_diagnostics.cc:168] retrieving CUDA diagnostic information for host: nalain-dell\n",
      "2023-10-05 15:54:45.051168: I tensorflow/compiler/xla/stream_executor/cuda/cuda_diagnostics.cc:175] hostname: nalain-dell\n",
      "2023-10-05 15:54:45.051253: I tensorflow/compiler/xla/stream_executor/cuda/cuda_diagnostics.cc:199] libcuda reported version is: 535.113.1\n",
      "2023-10-05 15:54:45.051272: I tensorflow/compiler/xla/stream_executor/cuda/cuda_diagnostics.cc:203] kernel reported version is: 535.113.1\n",
      "2023-10-05 15:54:45.051277: I tensorflow/compiler/xla/stream_executor/cuda/cuda_diagnostics.cc:309] kernel version seems to match DSO: 535.113.1\n"
     ]
    }
   ],
   "source": [
    "\n",
    "import json\n",
    "import cv2\n",
    "import tensorflow as tf\n",
    "import numpy as np\n",
    "import PIL.Image as Image\n",
    "\n",
    "import Tools.datasetTools as DatasetTools\n",
    "import Tools.utilities as common_utils\n",
    "\n",
    "print(tf.__version__)\n",
    "devices = tf.config.list_physical_devices('GPU')\n",
    "print(\"len(devices): \", len(devices))\n",
    "print(f\"available GPUs: {devices}\")\n",
    "\n",
    "os.environ['TF_CPP_MIN_LOG_LEVEL'] = '3'\n"
   ]
  },
  {
   "cell_type": "markdown",
   "metadata": {},
   "source": [
    "**Dataloaders**"
   ]
  },
  {
   "cell_type": "code",
   "execution_count": 3,
   "metadata": {},
   "outputs": [
    {
     "name": "stdout",
     "output_type": "stream",
     "text": [
      "**dataset:  SkyData\n",
      "[INFO] loading train dataset\n",
      "[INFO] train _dataset:  27700\n",
      "[INFO] loading val dataset\n",
      "[INFO] val _dataset:  7990\n"
     ]
    }
   ],
   "source": [
    "import data_setup\n",
    "\n",
    "\n",
    "# try to import the dataset\n",
    "dataset=\"SkyData\"\n",
    "BATCH_SIZE = 1\n",
    "SHUFFLE_BUFFER_SIZE = 100\n",
    "\n",
    "print(\"**dataset: \", dataset)\n",
    "train_dataloader,test_dataloader = data_setup.create_dataloaders(dataset=dataset, \n",
    "                                                                BATCH_SIZE=BATCH_SIZE,\n",
    "                                                                SHUFFLE_BUFFER_SIZE=100\n",
    "                                                                )\n",
    "#"
   ]
  },
  {
   "cell_type": "markdown",
   "metadata": {},
   "source": [
    "**Dataset integrity**\n",
    "- display samples count\n",
    "- samples(images) don't contain NaNs\n",
    "- inverse of homography matrix exits\n"
   ]
  },
  {
   "cell_type": "code",
   "execution_count": 4,
   "metadata": {},
   "outputs": [],
   "source": [
    "dataloaders = {\n",
    "    \"train\":train_dataloader,\n",
    "    \"test\":test_dataloader\n",
    "}\n",
    "\n",
    "dataset_info={}\n",
    "dataset_info[\"dataset\"]= dataset\n"
   ]
  },
  {
   "cell_type": "code",
   "execution_count": 5,
   "metadata": {},
   "outputs": [
    {
     "name": "stdout",
     "output_type": "stream",
     "text": [
      "[INFO] saving json file to resources/datasets_logs/SkyData_dataset_info.json\n",
      "[INFO] file saved at resources/datasets_logs.\n"
     ]
    }
   ],
   "source": [
    "for split, dataloader in dataloaders.items():\n",
    "    dataset_info[split]={}\n",
    "    dataset_info[split][\"size\"] = len(dataloader)\n",
    "    dataset_info[split][\"NaNs\"] = []\n",
    "    dataset_info[split][\"transformed_have_NaNs\"] = []\n",
    "    dataset_info[split][\"nonInvertibles\"] = []\n",
    "    dataset_info[split][\"input_image_size\"] = str(list(dataloader.take(1))[0][0].shape)\n",
    "    dataset_info[split][\"template_image_size\"] = str(list(dataloader.take(1))[0][1].shape)\n",
    "    \n",
    "    for batch in dataloader.take(1):\n",
    "        input_images, template_images, labels ,_instances = batch\n",
    "        \n",
    "        # check for nans\n",
    "        if np.isnan(input_images).any() or np.isnan(template_images).any():\n",
    "            dataset_info[split][\"NaNs\"].append(str(_instances.numpy()[0]))\n",
    "            \n",
    "        homography_matrices = DatasetTools.get_ground_truth_homographies(labels) \n",
    "        inverse_homography_matrices, _is_invertibles = DatasetTools.is_invertible(homography_matrices)   \n",
    "        \n",
    "        #invertibility check\n",
    "        if not _is_invertibles:\n",
    "            dataset_info[split][\"nonInvertibles\"].append(str(_instances.numpy()[0]))\n",
    "            \n",
    "        warped_images, _transformed_have_nans = DatasetTools._transformed_images(input_images, \n",
    "                                                                                homography_matrices)\n",
    "        # check for nans in transformed images\n",
    "        if _transformed_have_nans:\n",
    "            dataset_info[split][\"transformed_have_NaNs\"].append(str(_instances.numpy()[0]))\n",
    "            \n",
    "#save dataset info\n",
    "common_utils.save_json(dataset_info, \n",
    "                        f\"resources/datasets_logs/\",\n",
    "                        f\"{dataset}_dataset_info.json\"\n",
    "                        )\n"
   ]
  },
  {
   "cell_type": "code",
   "execution_count": 6,
   "metadata": {},
   "outputs": [
    {
     "data": {
      "text/plain": [
       "'(1, 192, 192, 3)'"
      ]
     },
     "execution_count": 6,
     "metadata": {},
     "output_type": "execute_result"
    }
   ],
   "source": [
    "str(list(dataloader.take(1))[0][0].shape)"
   ]
  },
  {
   "cell_type": "code",
   "execution_count": null,
   "metadata": {},
   "outputs": [],
   "source": []
  }
 ],
 "metadata": {
  "kernelspec": {
   "display_name": "VisIrNet",
   "language": "python",
   "name": "python3"
  },
  "language_info": {
   "codemirror_mode": {
    "name": "ipython",
    "version": 3
   },
   "file_extension": ".py",
   "mimetype": "text/x-python",
   "name": "python",
   "nbconvert_exporter": "python",
   "pygments_lexer": "ipython3",
   "version": "3.10.0"
  },
  "orig_nbformat": 4
 },
 "nbformat": 4,
 "nbformat_minor": 2
}
