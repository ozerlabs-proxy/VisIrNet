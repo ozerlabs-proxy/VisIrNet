{
 "cells": [
  {
   "cell_type": "code",
   "execution_count": 1,
   "metadata": {},
   "outputs": [
    {
     "name": "stdout",
     "output_type": "stream",
     "text": [
      "2.14.0\n",
      "len(devices):  1\n",
      "available GPUs: [PhysicalDevice(name='/physical_device:GPU:0', device_type='GPU')]\n"
     ]
    }
   ],
   "source": [
    "import os\n",
    "import sys\n",
    "os.environ['TF_CPP_MIN_LOG_LEVEL'] = '3'\n",
    "import tensorflow as tf\n",
    "from pathlib import Path\n",
    "import numpy as np\n",
    "import PIL\n",
    "import PIL.Image\n",
    "import json\n",
    "import pandas as pd\n",
    "\n",
    "\n",
    "import seaborn as sns\n",
    "import matplotlib.pyplot as plt\n",
    "\n",
    "#change working directory to root\n",
    "ROOT_DIR = os.getcwd()\n",
    "while os.path.basename(ROOT_DIR) != 'VisIrNet':\n",
    "    ROOT_DIR = os.path.abspath(os.path.join(ROOT_DIR,'..'))\n",
    "sys.path.insert(0,ROOT_DIR)\n",
    "os.chdir(ROOT_DIR)\n",
    "\n",
    "ROOT_DIR = Path(ROOT_DIR)\n",
    "\n",
    "print(tf.__version__)\n",
    "devices = tf.config.list_physical_devices('GPU')\n",
    "print(\"len(devices): \", len(devices))\n",
    "print(f\"available GPUs: {devices}\");\n",
    "\n",
    "from collections import defaultdict\n",
    "\n"
   ]
  },
  {
   "cell_type": "code",
   "execution_count": 2,
   "metadata": {},
   "outputs": [],
   "source": [
    "# extract important metrics from logs\n",
    "\n",
    "logs_path = ROOT_DIR / 'logs'\n",
    "\n"
   ]
  },
  {
   "cell_type": "markdown",
   "metadata": {},
   "source": [
    "## backbone "
   ]
  },
  {
   "cell_type": "markdown",
   "metadata": {},
   "source": [
    "```python\n",
    "\n",
    "## helper functions\n",
    "\n",
    "```"
   ]
  },
  {
   "cell_type": "code",
   "execution_count": 3,
   "metadata": {},
   "outputs": [],
   "source": [
    "## helper functions\n",
    "\n",
    "def parse_backbone_log(logs):\n",
    "    \"\"\"\n",
    "        'model-name',\n",
    "        'epochs',\n",
    "        'loss_function',\n",
    "        'resumed_from',\n",
    "        'train_size',\n",
    "        'test_size',\n",
    "        'tag_name',\n",
    "        'per_epoch_metrics',\n",
    "        'training_time'\n",
    "    \"\"\"\n",
    "    #\n",
    "    # interested_in = ['fir_frgb', 'frgb_Irgb', 'fir_Irgb']\n",
    "    interested_in = ['total_loss']\n",
    "\n",
    "\n",
    "    # exatract the initial and final values\n",
    "    training_logs = logs[\"per_epoch_metrics\"][\"train_loss\"]\n",
    "    test_logs = logs[\"per_epoch_metrics\"][\"test_results\"]\n",
    "    \n",
    "    _filtered_logs={}\n",
    "\n",
    "    _filtered_logs.update({f\"Train\": v for k,v in training_logs.items() if k in interested_in})\n",
    "    _filtered_logs.update({f\"Test\": v for k,v in test_logs.items() if k in interested_in})\n",
    "    \n",
    "    values_dict = {logs[\"loss_function\"]: _filtered_logs}\n",
    "    return dict(values_dict)\n",
    "\n",
    "\n",
    "def handle_backbone(log_dir, backbone_logs):\n",
    "    \n",
    "    backbone_parsed_dict = defaultdict(list)\n",
    "    \n",
    "    for b_logs in backbone_logs:        \n",
    "        # read the json \n",
    "        with open(log_dir / b_logs) as f:\n",
    "            example_logs = json.load(f)\n",
    "            parsed_dict = parse_backbone_log(example_logs)\n",
    "        \n",
    "        # add the parsed dict to the backbone_parsed_dict\n",
    "        backbone_parsed_dict.update(parsed_dict)\n",
    "            \n",
    "    return dict(backbone_parsed_dict)\n",
    "    \n",
    "    "
   ]
  },
  {
   "cell_type": "code",
   "execution_count": 4,
   "metadata": {},
   "outputs": [],
   "source": [
    "# plts\n",
    "\n",
    "def handle_learning_curve_plots(history_dict,d_name):\n",
    "    \"\"\"\n",
    "    \n",
    "        Given training history dict for different loss functions,\n",
    "        plot the training and validation loss and accuracy curves\n",
    "    \"\"\"\n",
    "    print(\"dataset_name: \", d_name)\n",
    "    print(\"*\"*50)\n",
    "    \n",
    "    fig, axes = plt.subplots(2, 2, figsize=(12, 8))\n",
    "    fig.suptitle(f'{d_name} Learning Curves')\n",
    "    \n",
    "    titles_dict = {\n",
    "        \"sse_pixel\": \"Pixel Sum Squared Error\",\n",
    "        \"mae_pixel\": \"Pixel Mean Absolute Error\",\n",
    "        \"mse_pixel\": \"Pixel Mean Squared Error\",\n",
    "        \"ssim_pixel\": \"Pixel Structural Similarity Index\"\n",
    "    }\n",
    "    \n",
    "    raveled_axes = axes.ravel() \n",
    "            \n",
    "    for idx, (k , v) in enumerate(history_dict.items()):\n",
    "        print(f\"loss: {k}\")\n",
    "        _logs_df = pd.DataFrame(v)\n",
    "        with sns.axes_style(\"whitegrid\"):\n",
    "            sns.lineplot(data= _logs_df, ax=raveled_axes[idx],linewidth=2.5)\n",
    "            raveled_axes[idx].set_title(f'{titles_dict[k]}')\n",
    "            raveled_axes[idx].set_xlabel('' if idx <2  else \"Epochs\")\n",
    "            raveled_axes[idx].set_ylabel('')\n",
    "            raveled_axes[idx].tick_params(axis='x', labelbottom=(True if idx > 1 else False))\n",
    "            raveled_axes[idx].tick_params(axis='y', labelleft=True)\n",
    "            # axes[i, j].legend(ncol=1, fontsize=5, loc=\"upper center\", frameon=False).remove()      \n",
    "        # # show ticks for the last row\n",
    "    # Adjust spacing\n",
    "    plt.tight_layout()\n",
    "    plt.fontsize = 20\n",
    "    # Show the plots\n",
    "    # plt.show()    \n",
    "    file_name = f'{d_name}_learning_curve'\n",
    "    save_path = Path(\"resources/learning_curve_s/\")\n",
    "    save_path.mkdir(parents=True, exist_ok=True)\n",
    "    plt.savefig(str(save_path/f'{file_name}.png'), dpi=300, bbox_inches='tight')\n",
    "    # plt.show()\n",
    "    plt.close()\n",
    "    print(\"*\"*50)\n"
   ]
  },
  {
   "cell_type": "code",
   "execution_count": 5,
   "metadata": {},
   "outputs": [
    {
     "name": "stdout",
     "output_type": "stream",
     "text": [
      "dataset_name:  VEDAI\n",
      "**************************************************\n",
      "loss: mae_pixel\n"
     ]
    },
    {
     "ename": "AttributeError",
     "evalue": "Line2D.set() got an unexpected keyword argument 'fontsize'",
     "output_type": "error",
     "traceback": [
      "\u001b[0;31m---------------------------------------------------------------------------\u001b[0m",
      "\u001b[0;31mAttributeError\u001b[0m                            Traceback (most recent call last)",
      "\u001b[1;32m/home/nalain/nalain-labs/ozerlabs/ImageRegistration/methods/VisIrNet/notebooks/meaningful_plots_from_logs.ipynb Cell 7\u001b[0m line \u001b[0;36m1\n\u001b[1;32m     <a href='vscode-notebook-cell:/home/nalain/nalain-labs/ozerlabs/ImageRegistration/methods/VisIrNet/notebooks/meaningful_plots_from_logs.ipynb#X26sZmlsZQ%3D%3D?line=11'>12</a>\u001b[0m backbone_parsed \u001b[39m=\u001b[39m handle_backbone(log_dir, backbone_logs)\n\u001b[1;32m     <a href='vscode-notebook-cell:/home/nalain/nalain-labs/ozerlabs/ImageRegistration/methods/VisIrNet/notebooks/meaningful_plots_from_logs.ipynb#X26sZmlsZQ%3D%3D?line=12'>13</a>\u001b[0m \u001b[39m# regression_parsed = handle_regression(log_dir, regressionBlock_logs)\u001b[39;00m\n\u001b[0;32m---> <a href='vscode-notebook-cell:/home/nalain/nalain-labs/ozerlabs/ImageRegistration/methods/VisIrNet/notebooks/meaningful_plots_from_logs.ipynb#X26sZmlsZQ%3D%3D?line=14'>15</a>\u001b[0m handle_learning_curve_plots(backbone_parsed,d_name)\n",
      "\u001b[1;32m/home/nalain/nalain-labs/ozerlabs/ImageRegistration/methods/VisIrNet/notebooks/meaningful_plots_from_logs.ipynb Cell 7\u001b[0m line \u001b[0;36m2\n\u001b[1;32m     <a href='vscode-notebook-cell:/home/nalain/nalain-labs/ozerlabs/ImageRegistration/methods/VisIrNet/notebooks/meaningful_plots_from_logs.ipynb#X26sZmlsZQ%3D%3D?line=25'>26</a>\u001b[0m _logs_df \u001b[39m=\u001b[39m pd\u001b[39m.\u001b[39mDataFrame(v)\n\u001b[1;32m     <a href='vscode-notebook-cell:/home/nalain/nalain-labs/ozerlabs/ImageRegistration/methods/VisIrNet/notebooks/meaningful_plots_from_logs.ipynb#X26sZmlsZQ%3D%3D?line=26'>27</a>\u001b[0m \u001b[39mwith\u001b[39;00m sns\u001b[39m.\u001b[39maxes_style(\u001b[39m\"\u001b[39m\u001b[39mwhitegrid\u001b[39m\u001b[39m\"\u001b[39m):\n\u001b[0;32m---> <a href='vscode-notebook-cell:/home/nalain/nalain-labs/ozerlabs/ImageRegistration/methods/VisIrNet/notebooks/meaningful_plots_from_logs.ipynb#X26sZmlsZQ%3D%3D?line=27'>28</a>\u001b[0m     sns\u001b[39m.\u001b[39;49mlineplot(data\u001b[39m=\u001b[39;49m _logs_df, ax\u001b[39m=\u001b[39;49mraveled_axes[idx],linewidth\u001b[39m=\u001b[39;49m\u001b[39m2.5\u001b[39;49m,fontsize\u001b[39m=\u001b[39;49m\u001b[39m1\u001b[39;49m)\n\u001b[1;32m     <a href='vscode-notebook-cell:/home/nalain/nalain-labs/ozerlabs/ImageRegistration/methods/VisIrNet/notebooks/meaningful_plots_from_logs.ipynb#X26sZmlsZQ%3D%3D?line=28'>29</a>\u001b[0m     raveled_axes[idx]\u001b[39m.\u001b[39mset_title(\u001b[39mf\u001b[39m\u001b[39m'\u001b[39m\u001b[39m{\u001b[39;00mtitles_dict[k]\u001b[39m}\u001b[39;00m\u001b[39m'\u001b[39m)\n\u001b[1;32m     <a href='vscode-notebook-cell:/home/nalain/nalain-labs/ozerlabs/ImageRegistration/methods/VisIrNet/notebooks/meaningful_plots_from_logs.ipynb#X26sZmlsZQ%3D%3D?line=29'>30</a>\u001b[0m     raveled_axes[idx]\u001b[39m.\u001b[39mset_xlabel(\u001b[39m'\u001b[39m\u001b[39m'\u001b[39m \u001b[39mif\u001b[39;00m idx \u001b[39m<\u001b[39m\u001b[39m2\u001b[39m  \u001b[39melse\u001b[39;00m \u001b[39m\"\u001b[39m\u001b[39mEpochs\u001b[39m\u001b[39m\"\u001b[39m)\n",
      "File \u001b[0;32m~/miniconda3/envs/VisIrNet/lib/python3.10/site-packages/seaborn/relational.py:507\u001b[0m, in \u001b[0;36mlineplot\u001b[0;34m(data, x, y, hue, size, style, units, palette, hue_order, hue_norm, sizes, size_order, size_norm, dashes, markers, style_order, estimator, errorbar, n_boot, seed, orient, sort, err_style, err_kws, legend, ci, ax, **kwargs)\u001b[0m\n\u001b[1;32m    504\u001b[0m color \u001b[39m=\u001b[39m kwargs\u001b[39m.\u001b[39mpop(\u001b[39m\"\u001b[39m\u001b[39mcolor\u001b[39m\u001b[39m\"\u001b[39m, kwargs\u001b[39m.\u001b[39mpop(\u001b[39m\"\u001b[39m\u001b[39mc\u001b[39m\u001b[39m\"\u001b[39m, \u001b[39mNone\u001b[39;00m))\n\u001b[1;32m    505\u001b[0m kwargs[\u001b[39m\"\u001b[39m\u001b[39mcolor\u001b[39m\u001b[39m\"\u001b[39m] \u001b[39m=\u001b[39m _default_color(ax\u001b[39m.\u001b[39mplot, hue, color, kwargs)\n\u001b[0;32m--> 507\u001b[0m p\u001b[39m.\u001b[39;49mplot(ax, kwargs)\n\u001b[1;32m    508\u001b[0m \u001b[39mreturn\u001b[39;00m ax\n",
      "File \u001b[0;32m~/miniconda3/envs/VisIrNet/lib/python3.10/site-packages/seaborn/relational.py:310\u001b[0m, in \u001b[0;36m_LinePlotter.plot\u001b[0;34m(self, ax, kws)\u001b[0m\n\u001b[1;32m    308\u001b[0m         lines\u001b[39m.\u001b[39mextend(ax\u001b[39m.\u001b[39mplot(unit_data[\u001b[39m\"\u001b[39m\u001b[39mx\u001b[39m\u001b[39m\"\u001b[39m], unit_data[\u001b[39m\"\u001b[39m\u001b[39my\u001b[39m\u001b[39m\"\u001b[39m], \u001b[39m*\u001b[39m\u001b[39m*\u001b[39mkws))\n\u001b[1;32m    309\u001b[0m \u001b[39melse\u001b[39;00m:\n\u001b[0;32m--> 310\u001b[0m     lines \u001b[39m=\u001b[39m ax\u001b[39m.\u001b[39;49mplot(sub_data[\u001b[39m\"\u001b[39;49m\u001b[39mx\u001b[39;49m\u001b[39m\"\u001b[39;49m], sub_data[\u001b[39m\"\u001b[39;49m\u001b[39my\u001b[39;49m\u001b[39m\"\u001b[39;49m], \u001b[39m*\u001b[39;49m\u001b[39m*\u001b[39;49mkws)\n\u001b[1;32m    312\u001b[0m \u001b[39mfor\u001b[39;00m line \u001b[39min\u001b[39;00m lines:\n\u001b[1;32m    314\u001b[0m     \u001b[39mif\u001b[39;00m \u001b[39m\"\u001b[39m\u001b[39mhue\u001b[39m\u001b[39m\"\u001b[39m \u001b[39min\u001b[39;00m sub_vars:\n",
      "File \u001b[0;32m~/miniconda3/envs/VisIrNet/lib/python3.10/site-packages/matplotlib/axes/_axes.py:1721\u001b[0m, in \u001b[0;36mAxes.plot\u001b[0;34m(self, scalex, scaley, data, *args, **kwargs)\u001b[0m\n\u001b[1;32m   1478\u001b[0m \u001b[39m\u001b[39m\u001b[39m\"\"\"\u001b[39;00m\n\u001b[1;32m   1479\u001b[0m \u001b[39mPlot y versus x as lines and/or markers.\u001b[39;00m\n\u001b[1;32m   1480\u001b[0m \n\u001b[0;32m   (...)\u001b[0m\n\u001b[1;32m   1718\u001b[0m \u001b[39m(``'green'``) or hex strings (``'#008000'``).\u001b[39;00m\n\u001b[1;32m   1719\u001b[0m \u001b[39m\"\"\"\u001b[39;00m\n\u001b[1;32m   1720\u001b[0m kwargs \u001b[39m=\u001b[39m cbook\u001b[39m.\u001b[39mnormalize_kwargs(kwargs, mlines\u001b[39m.\u001b[39mLine2D)\n\u001b[0;32m-> 1721\u001b[0m lines \u001b[39m=\u001b[39m [\u001b[39m*\u001b[39m\u001b[39mself\u001b[39m\u001b[39m.\u001b[39m_get_lines(\u001b[39mself\u001b[39m, \u001b[39m*\u001b[39margs, data\u001b[39m=\u001b[39mdata, \u001b[39m*\u001b[39m\u001b[39m*\u001b[39mkwargs)]\n\u001b[1;32m   1722\u001b[0m \u001b[39mfor\u001b[39;00m line \u001b[39min\u001b[39;00m lines:\n\u001b[1;32m   1723\u001b[0m     \u001b[39mself\u001b[39m\u001b[39m.\u001b[39madd_line(line)\n",
      "File \u001b[0;32m~/miniconda3/envs/VisIrNet/lib/python3.10/site-packages/matplotlib/axes/_base.py:303\u001b[0m, in \u001b[0;36m_process_plot_var_args.__call__\u001b[0;34m(self, axes, data, *args, **kwargs)\u001b[0m\n\u001b[1;32m    301\u001b[0m     this \u001b[39m+\u001b[39m\u001b[39m=\u001b[39m args[\u001b[39m0\u001b[39m],\n\u001b[1;32m    302\u001b[0m     args \u001b[39m=\u001b[39m args[\u001b[39m1\u001b[39m:]\n\u001b[0;32m--> 303\u001b[0m \u001b[39myield from\u001b[39;00m \u001b[39mself\u001b[39;49m\u001b[39m.\u001b[39;49m_plot_args(\n\u001b[1;32m    304\u001b[0m     axes, this, kwargs, ambiguous_fmt_datakey\u001b[39m=\u001b[39;49mambiguous_fmt_datakey)\n",
      "File \u001b[0;32m~/miniconda3/envs/VisIrNet/lib/python3.10/site-packages/matplotlib/axes/_base.py:539\u001b[0m, in \u001b[0;36m_process_plot_var_args._plot_args\u001b[0;34m(self, axes, tup, kwargs, return_kwargs, ambiguous_fmt_datakey)\u001b[0m\n\u001b[1;32m    537\u001b[0m     \u001b[39mreturn\u001b[39;00m \u001b[39mlist\u001b[39m(result)\n\u001b[1;32m    538\u001b[0m \u001b[39melse\u001b[39;00m:\n\u001b[0;32m--> 539\u001b[0m     \u001b[39mreturn\u001b[39;00m [l[\u001b[39m0\u001b[39m] \u001b[39mfor\u001b[39;00m l \u001b[39min\u001b[39;00m result]\n",
      "File \u001b[0;32m~/miniconda3/envs/VisIrNet/lib/python3.10/site-packages/matplotlib/axes/_base.py:539\u001b[0m, in \u001b[0;36m<listcomp>\u001b[0;34m(.0)\u001b[0m\n\u001b[1;32m    537\u001b[0m     \u001b[39mreturn\u001b[39;00m \u001b[39mlist\u001b[39m(result)\n\u001b[1;32m    538\u001b[0m \u001b[39melse\u001b[39;00m:\n\u001b[0;32m--> 539\u001b[0m     \u001b[39mreturn\u001b[39;00m [l[\u001b[39m0\u001b[39m] \u001b[39mfor\u001b[39;00m l \u001b[39min\u001b[39;00m result]\n",
      "File \u001b[0;32m~/miniconda3/envs/VisIrNet/lib/python3.10/site-packages/matplotlib/axes/_base.py:532\u001b[0m, in \u001b[0;36m<genexpr>\u001b[0;34m(.0)\u001b[0m\n\u001b[1;32m    529\u001b[0m \u001b[39melse\u001b[39;00m:\n\u001b[1;32m    530\u001b[0m     labels \u001b[39m=\u001b[39m [label] \u001b[39m*\u001b[39m n_datasets\n\u001b[0;32m--> 532\u001b[0m result \u001b[39m=\u001b[39m (make_artist(axes, x[:, j \u001b[39m%\u001b[39;49m ncx], y[:, j \u001b[39m%\u001b[39;49m ncy], kw,\n\u001b[1;32m    533\u001b[0m                       {\u001b[39m*\u001b[39;49m\u001b[39m*\u001b[39;49mkwargs, \u001b[39m'\u001b[39;49m\u001b[39mlabel\u001b[39;49m\u001b[39m'\u001b[39;49m: label})\n\u001b[1;32m    534\u001b[0m           \u001b[39mfor\u001b[39;00m j, label \u001b[39min\u001b[39;00m \u001b[39menumerate\u001b[39m(labels))\n\u001b[1;32m    536\u001b[0m \u001b[39mif\u001b[39;00m return_kwargs:\n\u001b[1;32m    537\u001b[0m     \u001b[39mreturn\u001b[39;00m \u001b[39mlist\u001b[39m(result)\n",
      "File \u001b[0;32m~/miniconda3/envs/VisIrNet/lib/python3.10/site-packages/matplotlib/axes/_base.py:346\u001b[0m, in \u001b[0;36m_process_plot_var_args._makeline\u001b[0;34m(self, axes, x, y, kw, kwargs)\u001b[0m\n\u001b[1;32m    344\u001b[0m default_dict \u001b[39m=\u001b[39m \u001b[39mself\u001b[39m\u001b[39m.\u001b[39m_getdefaults(\u001b[39mset\u001b[39m(), kw)\n\u001b[1;32m    345\u001b[0m \u001b[39mself\u001b[39m\u001b[39m.\u001b[39m_setdefaults(default_dict, kw)\n\u001b[0;32m--> 346\u001b[0m seg \u001b[39m=\u001b[39m mlines\u001b[39m.\u001b[39;49mLine2D(x, y, \u001b[39m*\u001b[39;49m\u001b[39m*\u001b[39;49mkw)\n\u001b[1;32m    347\u001b[0m \u001b[39mreturn\u001b[39;00m seg, kw\n",
      "File \u001b[0;32m~/miniconda3/envs/VisIrNet/lib/python3.10/site-packages/matplotlib/lines.py:407\u001b[0m, in \u001b[0;36mLine2D.__init__\u001b[0;34m(self, xdata, ydata, linewidth, linestyle, color, gapcolor, marker, markersize, markeredgewidth, markeredgecolor, markerfacecolor, markerfacecoloralt, fillstyle, antialiased, dash_capstyle, solid_capstyle, dash_joinstyle, solid_joinstyle, pickradius, drawstyle, markevery, **kwargs)\u001b[0m\n\u001b[1;32m    403\u001b[0m \u001b[39mself\u001b[39m\u001b[39m.\u001b[39mset_markeredgewidth(markeredgewidth)\n\u001b[1;32m    405\u001b[0m \u001b[39m# update kwargs before updating data to give the caller a\u001b[39;00m\n\u001b[1;32m    406\u001b[0m \u001b[39m# chance to init axes (and hence unit support)\u001b[39;00m\n\u001b[0;32m--> 407\u001b[0m \u001b[39mself\u001b[39;49m\u001b[39m.\u001b[39;49m_internal_update(kwargs)\n\u001b[1;32m    408\u001b[0m \u001b[39mself\u001b[39m\u001b[39m.\u001b[39mpickradius \u001b[39m=\u001b[39m pickradius\n\u001b[1;32m    409\u001b[0m \u001b[39mself\u001b[39m\u001b[39m.\u001b[39mind_offset \u001b[39m=\u001b[39m \u001b[39m0\u001b[39m\n",
      "File \u001b[0;32m~/miniconda3/envs/VisIrNet/lib/python3.10/site-packages/matplotlib/artist.py:1219\u001b[0m, in \u001b[0;36mArtist._internal_update\u001b[0;34m(self, kwargs)\u001b[0m\n\u001b[1;32m   1212\u001b[0m \u001b[39mdef\u001b[39;00m \u001b[39m_internal_update\u001b[39m(\u001b[39mself\u001b[39m, kwargs):\n\u001b[1;32m   1213\u001b[0m \u001b[39m    \u001b[39m\u001b[39m\"\"\"\u001b[39;00m\n\u001b[1;32m   1214\u001b[0m \u001b[39m    Update artist properties without prenormalizing them, but generating\u001b[39;00m\n\u001b[1;32m   1215\u001b[0m \u001b[39m    errors as if calling `set`.\u001b[39;00m\n\u001b[1;32m   1216\u001b[0m \n\u001b[1;32m   1217\u001b[0m \u001b[39m    The lack of prenormalization is to maintain backcompatibility.\u001b[39;00m\n\u001b[1;32m   1218\u001b[0m \u001b[39m    \"\"\"\u001b[39;00m\n\u001b[0;32m-> 1219\u001b[0m     \u001b[39mreturn\u001b[39;00m \u001b[39mself\u001b[39;49m\u001b[39m.\u001b[39;49m_update_props(\n\u001b[1;32m   1220\u001b[0m         kwargs, \u001b[39m\"\u001b[39;49m\u001b[39m{cls.__name__}\u001b[39;49;00m\u001b[39m.set() got an unexpected keyword argument \u001b[39;49m\u001b[39m\"\u001b[39;49m\n\u001b[1;32m   1221\u001b[0m         \u001b[39m\"\u001b[39;49m\u001b[39m{prop_name!r}\u001b[39;49;00m\u001b[39m\"\u001b[39;49m)\n",
      "File \u001b[0;32m~/miniconda3/envs/VisIrNet/lib/python3.10/site-packages/matplotlib/artist.py:1193\u001b[0m, in \u001b[0;36mArtist._update_props\u001b[0;34m(self, props, errfmt)\u001b[0m\n\u001b[1;32m   1191\u001b[0m             func \u001b[39m=\u001b[39m \u001b[39mgetattr\u001b[39m(\u001b[39mself\u001b[39m, \u001b[39mf\u001b[39m\u001b[39m\"\u001b[39m\u001b[39mset_\u001b[39m\u001b[39m{\u001b[39;00mk\u001b[39m}\u001b[39;00m\u001b[39m\"\u001b[39m, \u001b[39mNone\u001b[39;00m)\n\u001b[1;32m   1192\u001b[0m             \u001b[39mif\u001b[39;00m \u001b[39mnot\u001b[39;00m \u001b[39mcallable\u001b[39m(func):\n\u001b[0;32m-> 1193\u001b[0m                 \u001b[39mraise\u001b[39;00m \u001b[39mAttributeError\u001b[39;00m(\n\u001b[1;32m   1194\u001b[0m                     errfmt\u001b[39m.\u001b[39mformat(\u001b[39mcls\u001b[39m\u001b[39m=\u001b[39m\u001b[39mtype\u001b[39m(\u001b[39mself\u001b[39m), prop_name\u001b[39m=\u001b[39mk))\n\u001b[1;32m   1195\u001b[0m             ret\u001b[39m.\u001b[39mappend(func(v))\n\u001b[1;32m   1196\u001b[0m \u001b[39mif\u001b[39;00m ret:\n",
      "\u001b[0;31mAttributeError\u001b[0m: Line2D.set() got an unexpected keyword argument 'fontsize'"
     ]
    },
    {
     "data": {
      "image/png": "[encoded data removed]",
      "text/plain": [
       "<Figure size 1200x800 with 4 Axes>"
      ]
     },
     "metadata": {},
     "output_type": "display_data"
    }
   ],
   "source": [
    "\n",
    "# get all directories in logs_path\n",
    "log_dirs = [x for x in logs_path.iterdir() if x.is_dir() and x.name != 'tensorboard']\n",
    "dataset_with_logs = [d.name for d in log_dirs]\n",
    "\n",
    "\n",
    "\n",
    "for log_dir, d_name in zip(log_dirs,dataset_with_logs):\n",
    "    # per dataset logs\n",
    "    per_dataset_logs = [x.name for x in log_dir.glob('*.json')]\n",
    "\n",
    "    backbone_logs = list(filter(lambda x: 'regressionBlock' not in x,per_dataset_logs))\n",
    "    backbone_parsed = handle_backbone(log_dir, backbone_logs)\n",
    "    # regression_parsed = handle_regression(log_dir, regressionBlock_logs)\n",
    "    \n",
    "    handle_learning_curve_plots(backbone_parsed,d_name)\n",
    "\n",
    "\n"
   ]
  },
  {
   "cell_type": "code",
   "execution_count": null,
   "metadata": {},
   "outputs": [],
   "source": [
    "\n"
   ]
  }
 ],
 "metadata": {
  "kernelspec": {
   "display_name": "VisIrNet",
   "language": "python",
   "name": "python3"
  },
  "language_info": {
   "codemirror_mode": {
    "name": "ipython",
    "version": 3
   },
   "file_extension": ".py",
   "mimetype": "text/x-python",
   "name": "python",
   "nbconvert_exporter": "python",
   "pygments_lexer": "ipython3",
   "version": "3.10.0"
  },
  "orig_nbformat": 4
 },
 "nbformat": 4,
 "nbformat_minor": 2
}
